{
 "cells": [
  {
   "cell_type": "code",
   "execution_count": 10,
   "metadata": {},
   "outputs": [
    {
     "name": "stdout",
     "output_type": "stream",
     "text": [
      "我要写入一段文字\n",
      "世界很美好\n",
      "不要暴躁\n"
     ]
    }
   ],
   "source": [
    "f = open(\"E:/大三第二学期/跟着迪哥学python/配套代码和数据集/第18章：Tensorflow框架实战/Tensorflow/data/test.txt\",\"w\")\n",
    "f.write(\"我要写入一段文字\\n世界很美好\\n不要暴躁\")\n",
    "f.close()\n",
    "f = open(\"E:/大三第二学期/跟着迪哥学python/配套代码和数据集/第18章：Tensorflow框架实战/Tensorflow/data/test.txt\",\"r\")\n",
    "print(f.read())"
   ]
  },
  {
   "cell_type": "code",
   "execution_count": 13,
   "metadata": {
    "collapsed": true
   },
   "outputs": [],
   "source": [
    "import numpy as np\n",
    "import struct\n",
    " \n",
    "from PIL import Image\n",
    "import os\n",
    " \n",
    "data_file = \"E:/大三第二学期/跟着迪哥学python/配套代码和数据集/第18章：Tensorflow框架实战/Tensorflow/data/train-images.idx3-ubyte\"\n",
    "# It's 47040016B, but we should set to 47040000B\n",
    "data_file_size = 47040016\n",
    "data_file_size = str(data_file_size - 16) + 'B'\n",
    " \n",
    "data_buf = open(data_file, 'rb').read()\n",
    " \n",
    "magic, numImages, numRows, numColumns = struct.unpack_from(\n",
    "    '>IIII', data_buf, 0)\n",
    "datas = struct.unpack_from(\n",
    "    '>' + data_file_size, data_buf, struct.calcsize('>IIII'))\n",
    "datas = np.array(datas).astype(np.uint8).reshape(\n",
    "    numImages, 1, numRows, numColumns)\n",
    " \n",
    "label_file = 'E:/大三第二学期/跟着迪哥学python/配套代码和数据集/第18章：Tensorflow框架实战/Tensorflow/data/train-labels.idx1-ubyte'\n",
    " \n",
    "# It's 60008B, but we should set to 60000B\n",
    "label_file_size = 60008\n",
    "label_file_size = str(label_file_size - 8) + 'B'\n",
    " \n",
    "label_buf = open(label_file, 'rb').read()\n",
    " \n",
    "magic, numLabels = struct.unpack_from('>II', label_buf, 0)\n",
    "labels = struct.unpack_from(\n",
    "    '>' + label_file_size, label_buf, struct.calcsize('>II'))\n",
    "labels = np.array(labels).astype(np.int64)\n",
    " \n",
    "datas_root = 'E:/大三第二学期/跟着迪哥学python/配套代码和数据集/第18章：Tensorflow框架实战/Tensorflow/data/mnist_train'\n",
    "if not os.path.exists(datas_root):\n",
    "    os.mkdir(datas_root)\n",
    " \n",
    "for i in range(10):\n",
    "    file_name = datas_root + os.sep + str(i)\n",
    "    if not os.path.exists(file_name):\n",
    "        os.mkdir(file_name)\n",
    " \n",
    "for ii in range(numLabels):\n",
    "    img = Image.fromarray(datas[ii, 0, 0:28, 0:28])\n",
    "    label = labels[ii]\n",
    "    file_name = datas_root + os.sep + str(label) + os.sep + \\\n",
    "        'mnist_train_' + str(ii) + '.png'\n",
    "    img.save(file_name)"
   ]
  },
  {
   "cell_type": "code",
   "execution_count": null,
   "metadata": {
    "collapsed": true
   },
   "outputs": [],
   "source": []
  }
 ],
 "metadata": {
  "kernelspec": {
   "display_name": "Python 3",
   "language": "python",
   "name": "python3"
  },
  "language_info": {
   "codemirror_mode": {
    "name": "ipython",
    "version": 3
   },
   "file_extension": ".py",
   "mimetype": "text/x-python",
   "name": "python",
   "nbconvert_exporter": "python",
   "pygments_lexer": "ipython3",
   "version": "3.6.3"
  }
 },
 "nbformat": 4,
 "nbformat_minor": 2
}
